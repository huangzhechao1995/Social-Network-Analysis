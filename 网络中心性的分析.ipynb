{
 "cells": [
  {
   "cell_type": "code",
   "execution_count": 4,
   "metadata": {
    "collapsed": true
   },
   "outputs": [],
   "source": [
    "import pandas as pd\n",
    "import numpy as np\n",
    "from matplotlib import pyplot as plt"
   ]
  },
  {
   "cell_type": "code",
   "execution_count": 5,
   "metadata": {
    "collapsed": false
   },
   "outputs": [],
   "source": [
    "import igraph as ig\n",
    "from igraph import summary"
   ]
  },
  {
   "cell_type": "code",
   "execution_count": 6,
   "metadata": {
    "collapsed": false
   },
   "outputs": [],
   "source": [
    "dir=\"F:\\\\pythonfile\\\\Social Network\""
   ]
  },
  {
   "cell_type": "code",
   "execution_count": 7,
   "metadata": {
    "collapsed": false
   },
   "outputs": [],
   "source": [
    "network_df=pd.read_table(\"F:\\\\pythonfile\\\\PJ\\\\followRelationship.txt\",header=None)\n",
    "edges=network_df.values"
   ]
  },
  {
   "cell_type": "code",
   "execution_count": 8,
   "metadata": {
    "collapsed": false
   },
   "outputs": [
    {
     "data": {
      "text/plain": [
       "997"
      ]
     },
     "execution_count": 8,
     "metadata": {},
     "output_type": "execute_result"
    }
   ],
   "source": [
    "len(network_df[0].drop_duplicates())"
   ]
  },
  {
   "cell_type": "code",
   "execution_count": 9,
   "metadata": {
    "collapsed": false
   },
   "outputs": [],
   "source": [
    "Z=[x for x in network_df[0].drop_duplicates()]"
   ]
  },
  {
   "cell_type": "code",
   "execution_count": 18,
   "metadata": {
    "collapsed": false
   },
   "outputs": [
    {
     "data": {
      "text/plain": [
       "129575"
      ]
     },
     "execution_count": 18,
     "metadata": {},
     "output_type": "execute_result"
    }
   ],
   "source": [
    "len(network_df)"
   ]
  },
  {
   "cell_type": "code",
   "execution_count": 20,
   "metadata": {
    "collapsed": false
   },
   "outputs": [],
   "source": [
    "Y=[]\n",
    "for i,x in network_df.iterrows():\n",
    "    if x[1] in Z:\n",
    "        Y.append([x[0],x[1]])"
   ]
  },
  {
   "cell_type": "code",
   "execution_count": 21,
   "metadata": {
    "collapsed": false
   },
   "outputs": [],
   "source": [
    "g=ig.Graph.TupleList(Y, directed=True, vertex_name_attr='name', edge_attrs=None, weights=False)"
   ]
  },
  {
   "cell_type": "code",
   "execution_count": 22,
   "metadata": {
    "collapsed": false
   },
   "outputs": [
    {
     "data": {
      "text/plain": [
       "8480"
      ]
     },
     "execution_count": 22,
     "metadata": {},
     "output_type": "execute_result"
    }
   ],
   "source": [
    "len(g.es)"
   ]
  },
  {
   "cell_type": "code",
   "execution_count": 23,
   "metadata": {
    "collapsed": false
   },
   "outputs": [],
   "source": [
    "fout1=open(dir+\"\\\\图的联通信息.txt\",'w')\n",
    "fout2=open(dir+\"\\\\图中节点与用户ID的对应关系.txt\",'w')\n",
    "for x in g.get_edgelist():\n",
    "    fout1.write(str(x[0])+' '+str(x[1])+'\\n')    \n",
    "for x in range(len(g.vs[\"name\"])):\n",
    "    fout2.write(str(x)+' '+str(g.vs[\"name\"][x])+'\\n')"
   ]
  },
  {
   "cell_type": "code",
   "execution_count": 24,
   "metadata": {
    "collapsed": false
   },
   "outputs": [
    {
     "data": {
      "text/plain": [
       "937"
      ]
     },
     "execution_count": 24,
     "metadata": {},
     "output_type": "execute_result"
    }
   ],
   "source": [
    "len(g.vs)"
   ]
  },
  {
   "cell_type": "code",
   "execution_count": 25,
   "metadata": {
    "collapsed": false
   },
   "outputs": [],
   "source": [
    "c_degree = g.degree()\n",
    "c_bc = g.betweenness()\n",
    "c_cc = g.closeness()\n",
    "c_pr = g.pagerank()\n",
    "c_ks = g.coreness()\n",
    "c_ec = g.eigenvector_centrality()"
   ]
  },
  {
   "cell_type": "code",
   "execution_count": 26,
   "metadata": {
    "collapsed": false
   },
   "outputs": [],
   "source": [
    "vlist=[x[\"name\"] for x in g.vs]"
   ]
  },
  {
   "cell_type": "code",
   "execution_count": 27,
   "metadata": {
    "collapsed": false
   },
   "outputs": [],
   "source": [
    "result=pd.DataFrame(np.array([vlist,c_degree,c_bc,c_cc,c_pr,c_ks,c_ec]).T,index=range(len(vlist)),columns=[\"uid\",'degree','betweenness','closeness','pagerank','coreness','eigenvector'])"
   ]
  },
  {
   "cell_type": "code",
   "execution_count": 28,
   "metadata": {
    "collapsed": false
   },
   "outputs": [],
   "source": [
    "result[\"uid\"]=np.array(result['uid'],dtype='int64')"
   ]
  },
  {
   "cell_type": "code",
   "execution_count": 29,
   "metadata": {
    "collapsed": false
   },
   "outputs": [
    {
     "data": {
      "text/html": [
       "<div>\n",
       "<table border=\"1\" class=\"dataframe\">\n",
       "  <thead>\n",
       "    <tr style=\"text-align: right;\">\n",
       "      <th></th>\n",
       "      <th>uid</th>\n",
       "      <th>degree</th>\n",
       "      <th>betweenness</th>\n",
       "      <th>closeness</th>\n",
       "      <th>pagerank</th>\n",
       "      <th>coreness</th>\n",
       "      <th>eigenvector</th>\n",
       "    </tr>\n",
       "  </thead>\n",
       "  <tbody>\n",
       "    <tr>\n",
       "      <th>0</th>\n",
       "      <td>2108165354</td>\n",
       "      <td>71.0</td>\n",
       "      <td>11382.244299</td>\n",
       "      <td>0.423721</td>\n",
       "      <td>0.002665</td>\n",
       "      <td>17.0</td>\n",
       "      <td>0.090788</td>\n",
       "    </tr>\n",
       "    <tr>\n",
       "      <th>1</th>\n",
       "      <td>1880834101</td>\n",
       "      <td>6.0</td>\n",
       "      <td>2496.652779</td>\n",
       "      <td>0.338395</td>\n",
       "      <td>0.002935</td>\n",
       "      <td>6.0</td>\n",
       "      <td>0.015990</td>\n",
       "    </tr>\n",
       "    <tr>\n",
       "      <th>2</th>\n",
       "      <td>1885530543</td>\n",
       "      <td>2.0</td>\n",
       "      <td>42.746636</td>\n",
       "      <td>0.301255</td>\n",
       "      <td>0.000339</td>\n",
       "      <td>2.0</td>\n",
       "      <td>0.006583</td>\n",
       "    </tr>\n",
       "    <tr>\n",
       "      <th>3</th>\n",
       "      <td>1709391344</td>\n",
       "      <td>22.0</td>\n",
       "      <td>1528.998221</td>\n",
       "      <td>0.407134</td>\n",
       "      <td>0.000563</td>\n",
       "      <td>15.0</td>\n",
       "      <td>0.009799</td>\n",
       "    </tr>\n",
       "    <tr>\n",
       "      <th>4</th>\n",
       "      <td>2719861193</td>\n",
       "      <td>8.0</td>\n",
       "      <td>688.120688</td>\n",
       "      <td>0.347052</td>\n",
       "      <td>0.000756</td>\n",
       "      <td>7.0</td>\n",
       "      <td>0.013078</td>\n",
       "    </tr>\n",
       "  </tbody>\n",
       "</table>\n",
       "</div>"
      ],
      "text/plain": [
       "          uid  degree   betweenness  closeness  pagerank  coreness  \\\n",
       "0  2108165354    71.0  11382.244299   0.423721  0.002665      17.0   \n",
       "1  1880834101     6.0   2496.652779   0.338395  0.002935       6.0   \n",
       "2  1885530543     2.0     42.746636   0.301255  0.000339       2.0   \n",
       "3  1709391344    22.0   1528.998221   0.407134  0.000563      15.0   \n",
       "4  2719861193     8.0    688.120688   0.347052  0.000756       7.0   \n",
       "\n",
       "   eigenvector  \n",
       "0     0.090788  \n",
       "1     0.015990  \n",
       "2     0.006583  \n",
       "3     0.009799  \n",
       "4     0.013078  "
      ]
     },
     "execution_count": 29,
     "metadata": {},
     "output_type": "execute_result"
    }
   ],
   "source": [
    "result.head()"
   ]
  },
  {
   "cell_type": "code",
   "execution_count": 30,
   "metadata": {
    "collapsed": false
   },
   "outputs": [
    {
     "name": "stderr",
     "output_type": "stream",
     "text": [
      "C:\\Users\\哲超\\Anaconda3\\lib\\site-packages\\ipykernel\\__main__.py:1: FutureWarning: sort(columns=....) is deprecated, use sort_values(by=.....)\n",
      "  if __name__ == '__main__':\n"
     ]
    },
    {
     "data": {
      "text/html": [
       "<div>\n",
       "<table border=\"1\" class=\"dataframe\">\n",
       "  <thead>\n",
       "    <tr style=\"text-align: right;\">\n",
       "      <th></th>\n",
       "      <th>uid</th>\n",
       "      <th>degree</th>\n",
       "      <th>betweenness</th>\n",
       "      <th>closeness</th>\n",
       "      <th>pagerank</th>\n",
       "      <th>coreness</th>\n",
       "      <th>eigenvector</th>\n",
       "    </tr>\n",
       "  </thead>\n",
       "  <tbody>\n",
       "    <tr>\n",
       "      <th>88</th>\n",
       "      <td>1424710994</td>\n",
       "      <td>83.0</td>\n",
       "      <td>4523.170894</td>\n",
       "      <td>0.438202</td>\n",
       "      <td>0.019990</td>\n",
       "      <td>17.0</td>\n",
       "      <td>0.210485</td>\n",
       "    </tr>\n",
       "    <tr>\n",
       "      <th>251</th>\n",
       "      <td>1497035431</td>\n",
       "      <td>85.0</td>\n",
       "      <td>9385.595545</td>\n",
       "      <td>0.439850</td>\n",
       "      <td>0.014938</td>\n",
       "      <td>17.0</td>\n",
       "      <td>0.557577</td>\n",
       "    </tr>\n",
       "    <tr>\n",
       "      <th>27</th>\n",
       "      <td>1402400261</td>\n",
       "      <td>134.0</td>\n",
       "      <td>14157.211409</td>\n",
       "      <td>0.446352</td>\n",
       "      <td>0.013906</td>\n",
       "      <td>17.0</td>\n",
       "      <td>1.000000</td>\n",
       "    </tr>\n",
       "    <tr>\n",
       "      <th>31</th>\n",
       "      <td>1197161814</td>\n",
       "      <td>119.0</td>\n",
       "      <td>15183.502732</td>\n",
       "      <td>0.454810</td>\n",
       "      <td>0.012387</td>\n",
       "      <td>17.0</td>\n",
       "      <td>0.249633</td>\n",
       "    </tr>\n",
       "    <tr>\n",
       "      <th>37</th>\n",
       "      <td>1687445053</td>\n",
       "      <td>85.0</td>\n",
       "      <td>7736.596845</td>\n",
       "      <td>0.425842</td>\n",
       "      <td>0.012220</td>\n",
       "      <td>15.0</td>\n",
       "      <td>0.129746</td>\n",
       "    </tr>\n",
       "  </tbody>\n",
       "</table>\n",
       "</div>"
      ],
      "text/plain": [
       "            uid  degree   betweenness  closeness  pagerank  coreness  \\\n",
       "88   1424710994    83.0   4523.170894   0.438202  0.019990      17.0   \n",
       "251  1497035431    85.0   9385.595545   0.439850  0.014938      17.0   \n",
       "27   1402400261   134.0  14157.211409   0.446352  0.013906      17.0   \n",
       "31   1197161814   119.0  15183.502732   0.454810  0.012387      17.0   \n",
       "37   1687445053    85.0   7736.596845   0.425842  0.012220      15.0   \n",
       "\n",
       "     eigenvector  \n",
       "88      0.210485  \n",
       "251     0.557577  \n",
       "27      1.000000  \n",
       "31      0.249633  \n",
       "37      0.129746  "
      ]
     },
     "execution_count": 30,
     "metadata": {},
     "output_type": "execute_result"
    }
   ],
   "source": [
    "result.sort(\"pagerank\",ascending=False).head()"
   ]
  },
  {
   "cell_type": "code",
   "execution_count": 25,
   "metadata": {
    "collapsed": true
   },
   "outputs": [],
   "source": [
    "result.to_excel(dir+\"//result_997_中心性.xlsx\")"
   ]
  },
  {
   "cell_type": "markdown",
   "metadata": {},
   "source": [
    "# 想要分出社群，想使用社群发现的算法"
   ]
  },
  {
   "cell_type": "code",
   "execution_count": 31,
   "metadata": {
    "collapsed": false
   },
   "outputs": [],
   "source": [
    "cluster1=g.community_walktrap()"
   ]
  },
  {
   "cell_type": "code",
   "execution_count": 32,
   "metadata": {
    "collapsed": false
   },
   "outputs": [],
   "source": [
    "L=cluster1.as_clustering(15).membership"
   ]
  },
  {
   "cell_type": "code",
   "execution_count": 33,
   "metadata": {
    "collapsed": false
   },
   "outputs": [],
   "source": [
    "society=[x for x in L if x>0]"
   ]
  },
  {
   "cell_type": "markdown",
   "metadata": {},
   "source": [
    "# 转发网络的研究、中心度计算"
   ]
  },
  {
   "cell_type": "code",
   "execution_count": 34,
   "metadata": {
    "collapsed": false
   },
   "outputs": [],
   "source": [
    "retweet=pd.read_table(dir+\"\\\\newForward.txt\",header=None)"
   ]
  },
  {
   "cell_type": "code",
   "execution_count": 35,
   "metadata": {
    "collapsed": false
   },
   "outputs": [
    {
     "data": {
      "text/html": [
       "<div>\n",
       "<table border=\"1\" class=\"dataframe\">\n",
       "  <thead>\n",
       "    <tr style=\"text-align: right;\">\n",
       "      <th></th>\n",
       "      <th>0</th>\n",
       "      <th>1</th>\n",
       "      <th>2</th>\n",
       "    </tr>\n",
       "  </thead>\n",
       "  <tbody>\n",
       "    <tr>\n",
       "      <th>0</th>\n",
       "      <td>1704117253</td>\n",
       "      <td>1762073501</td>\n",
       "      <td>1</td>\n",
       "    </tr>\n",
       "    <tr>\n",
       "      <th>1</th>\n",
       "      <td>1622004587</td>\n",
       "      <td>3851645388</td>\n",
       "      <td>5</td>\n",
       "    </tr>\n",
       "    <tr>\n",
       "      <th>2</th>\n",
       "      <td>1808067361</td>\n",
       "      <td>1699016425</td>\n",
       "      <td>1</td>\n",
       "    </tr>\n",
       "    <tr>\n",
       "      <th>3</th>\n",
       "      <td>1803299813</td>\n",
       "      <td>1644971875</td>\n",
       "      <td>1</td>\n",
       "    </tr>\n",
       "    <tr>\n",
       "      <th>4</th>\n",
       "      <td>2864140044</td>\n",
       "      <td>1402400261</td>\n",
       "      <td>4</td>\n",
       "    </tr>\n",
       "  </tbody>\n",
       "</table>\n",
       "</div>"
      ],
      "text/plain": [
       "            0           1  2\n",
       "0  1704117253  1762073501  1\n",
       "1  1622004587  3851645388  5\n",
       "2  1808067361  1699016425  1\n",
       "3  1803299813  1644971875  1\n",
       "4  2864140044  1402400261  4"
      ]
     },
     "execution_count": 35,
     "metadata": {},
     "output_type": "execute_result"
    }
   ],
   "source": [
    "retweet.head()"
   ]
  },
  {
   "cell_type": "code",
   "execution_count": 36,
   "metadata": {
    "collapsed": false
   },
   "outputs": [],
   "source": [
    "g=ig.Graph()"
   ]
  },
  {
   "cell_type": "code",
   "execution_count": 37,
   "metadata": {
    "collapsed": false
   },
   "outputs": [],
   "source": [
    "L=[]\n",
    "for i,x in retweet.iterrows():\n",
    "    L.append((x[0],x[1]))"
   ]
  },
  {
   "cell_type": "code",
   "execution_count": 38,
   "metadata": {
    "collapsed": false
   },
   "outputs": [],
   "source": [
    "g=ig.Graph.TupleList(L, directed=True, edge_attrs=None, weights=True)"
   ]
  },
  {
   "cell_type": "code",
   "execution_count": 39,
   "metadata": {
    "collapsed": false
   },
   "outputs": [],
   "source": [
    "g.es[\"weights\"]=retweet[2].values"
   ]
  },
  {
   "cell_type": "code",
   "execution_count": 40,
   "metadata": {
    "collapsed": false
   },
   "outputs": [
    {
     "data": {
      "text/plain": [
       "igraph.Edge(<igraph.Graph object at 0x000001DA8904D9A8>, 4, {'weight': None, 'weights': 4})"
      ]
     },
     "execution_count": 40,
     "metadata": {},
     "output_type": "execute_result"
    }
   ],
   "source": [
    "g.es[4]"
   ]
  },
  {
   "cell_type": "code",
   "execution_count": 41,
   "metadata": {
    "collapsed": false
   },
   "outputs": [],
   "source": [
    "vlist=[x[\"name\"] for x in g.vs]\n",
    "c_degree = g.degree()\n",
    "c_bc = g.betweenness()\n",
    "c_cc = g.closeness()\n",
    "c_pr = g.pagerank()\n",
    "c_ks = g.coreness()\n",
    "c_ec = g.eigenvector_centrality()\n",
    "result=pd.DataFrame(np.array([vlist,c_degree,c_bc,c_cc,c_pr,c_ks,c_ec]).T,index=range(len(vlist)),columns=[\"uid\",'degree','betweenness','closeness','pagerank','coreness','eigenvector'])"
   ]
  },
  {
   "cell_type": "code",
   "execution_count": 37,
   "metadata": {
    "collapsed": false
   },
   "outputs": [],
   "source": [
    "result.to_excel(dir+\"\\\\retweetcenter.xlsx\")"
   ]
  }
 ],
 "metadata": {
  "anaconda-cloud": {},
  "kernelspec": {
   "display_name": "Python [Root]",
   "language": "python",
   "name": "Python [Root]"
  },
  "language_info": {
   "codemirror_mode": {
    "name": "ipython",
    "version": 3
   },
   "file_extension": ".py",
   "mimetype": "text/x-python",
   "name": "python",
   "nbconvert_exporter": "python",
   "pygments_lexer": "ipython3",
   "version": "3.5.2"
  }
 },
 "nbformat": 4,
 "nbformat_minor": 0
}
